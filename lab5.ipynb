{
  "nbformat": 4,
  "nbformat_minor": 0,
  "metadata": {
    "colab": {
      "provenance": []
    },
    "kernelspec": {
      "name": "python3",
      "display_name": "Python 3"
    },
    "language_info": {
      "name": "python"
    }
  },
  "cells": [
    {
      "cell_type": "code",
      "execution_count": null,
      "metadata": {
        "colab": {
          "base_uri": "https://localhost:8080/"
        },
        "id": "Ndq8AJSJkV_l",
        "outputId": "0e26cbd2-4c89-427d-a315-d67d0e1c0347"
      },
      "outputs": [
        {
          "output_type": "stream",
          "name": "stdout",
          "text": [
            "Enter the board size (n): 6\n",
            "0 0 0 1 0 0 \n",
            "1 0 0 0 0 0 \n",
            "0 0 0 0 1 0 \n",
            "0 1 0 0 0 0 \n",
            "0 0 0 0 0 1 \n",
            "0 0 1 0 0 0 \n"
          ]
        },
        {
          "output_type": "execute_result",
          "data": {
            "text/plain": [
              "True"
            ]
          },
          "metadata": {},
          "execution_count": 25
        }
      ],
      "source": [
        "def recursive(board, col, n):\n",
        "    if col >= n:\n",
        "        return True\n",
        "\n",
        "    for i in range(n):\n",
        "        if is_safe(board, i, col, n):\n",
        "            board[i][col] = 1\n",
        "\n",
        "            if recursive(board, col + 1, n):\n",
        "                return True\n",
        "\n",
        "            board[i][col] = 0\n",
        "\n",
        "    return False\n",
        "\n",
        "def solve(n):\n",
        "    board = [[0 for _ in range(n)] for _ in range(n)]\n",
        "    if not recursive(board, 0, n):\n",
        "        print(\"Solution does not exist\")\n",
        "        return False\n",
        "\n",
        "    print_board(board)\n",
        "    return True\n",
        "\n",
        "def is_safe(board, row, col, n):\n",
        "    for i in range(col):\n",
        "        if board[row][i] == 1:\n",
        "            return False\n",
        "\n",
        "    for i, j in zip(range(row, -1, -1), range(col, -1, -1)):\n",
        "        if board[i][j] == 1:\n",
        "            return False\n",
        "\n",
        "    for i, j in zip(range(row, n, 1), range(col, -1, -1)):\n",
        "        if board[i][j] == 1:\n",
        "            return False\n",
        "\n",
        "    return True\n",
        "\n",
        "def print_board(board):\n",
        "    n = len(board)\n",
        "    for i in range(n):\n",
        "        for j in range(n):\n",
        "            print(board[i][j], end=\" \")\n",
        "        print()\n",
        "\n",
        "n = int(input(\"Enter the board size (n): \"))\n",
        "solve(n)"
      ]
    },
    {
      "cell_type": "code",
      "source": [
        "def is_safe(board, row, col, n):\n",
        "    for i in range(col):\n",
        "        if board[row][i] == 1:\n",
        "            return False\n",
        "\n",
        "    for i, j in zip(range(row, -1, -1), range(col, -1, -1)):\n",
        "        if board[i][j] == 1:\n",
        "            return False\n",
        "\n",
        "    for i, j in zip(range(row, n, 1), range(col, -1, -1)):\n",
        "        if board[i][j] == 1:\n",
        "            return False\n",
        "\n",
        "    return True\n",
        "\n",
        "def solve(board, col, n):\n",
        "    if col >= n:\n",
        "        return True\n",
        "\n",
        "    for i in range(n):\n",
        "        if is_safe(board, i, col, n):\n",
        "            board[i][col] = 1\n",
        "            if solve(board, col + 1, n):\n",
        "                return True\n",
        "            board[i][col] = 0\n",
        "\n",
        "    return False\n",
        "\n",
        "def print_board(board):\n",
        "    for row in board:\n",
        "        line = \"\"\n",
        "        for field in row:\n",
        "            line += \"Q\" if field else \".\"\n",
        "        print(line)\n",
        "\n",
        "n = int(input(\"Enter N: \"))\n",
        "initial_row = int(input(\"Enter i: \"))\n",
        "initial_col = int(input(\"Enter j: \"))\n",
        "\n",
        "board = [[0 for _ in range(n)] for _ in range(n)]\n",
        "board[initial_row][initial_col] = 1\n",
        "\n",
        "if not solve(board, initial_col + 1, n):\n",
        "  print(\"No solution exists!\")\n",
        "else:\n",
        "  print(\"Solution: \")\n",
        "  print_board(board)\n"
      ],
      "metadata": {
        "id": "KIq6kifGzWg7",
        "outputId": "da1af13c-3b55-4acf-e48d-e47b2f101a38",
        "colab": {
          "base_uri": "https://localhost:8080/"
        }
      },
      "execution_count": null,
      "outputs": [
        {
          "output_type": "stream",
          "name": "stdout",
          "text": [
            "Enter N: 4\n",
            "Enter i: 1\n",
            "Enter j: 0\n",
            "Solution: \n",
            "..Q.\n",
            "Q...\n",
            "...Q\n",
            ".Q..\n"
          ]
        }
      ]
    }
  ]
}